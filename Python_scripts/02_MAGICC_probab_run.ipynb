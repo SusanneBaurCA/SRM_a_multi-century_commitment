{
 "cells": [
  {
   "cell_type": "markdown",
   "metadata": {},
   "source": [
    "# Running MAGICC in Parallel\n",
    "\n",
    "The code in this notebook is a work in progress so it is quite verbose. In future prettier wrappers can be written but for now it's helpful to have things in one place."
   ]
  },
  {
   "cell_type": "code",
   "execution_count": 1,
   "metadata": {},
   "outputs": [
    {
     "data": {
      "application/javascript": [
       "IPython.OutputArea.prototype._should_scroll = function(lines) { return false; }"
      ],
      "text/plain": [
       "<IPython.core.display.Javascript object>"
      ]
     },
     "metadata": {},
     "output_type": "display_data"
    },
    {
     "name": "stderr",
     "output_type": "stream",
     "text": [
      "/Users/susannebaur/anaconda3/lib/python3.7/site-packages/openscm_runner/run.py:7: TqdmExperimentalWarning: Using `tqdm.autonotebook.tqdm` in notebook mode. Use `tqdm.tqdm` instead to force console mode (e.g. in jupyter console)\n",
      "  from tqdm.autonotebook import tqdm\n",
      "File doesn't exist \n"
     ]
    }
   ],
   "source": [
    "import glob\n",
    "import logging\n",
    "import multiprocessing\n",
    "import os.path\n",
    "from concurrent.futures import ProcessPoolExecutor\n",
    "from subprocess import CalledProcessError\n",
    "\n",
    "import f90nml\n",
    "import matplotlib.pyplot as plt\n",
    "import numpy as np\n",
    "from openscm_runner.adapters.magicc7._parallel_process import _parallel_process\n",
    "from scmdata import df_append\n",
    "\n",
    "from _magicc_instances import _MagiccInstances\n",
    "from tqdm.autonotebook import tqdm\n",
    "\n",
    "from matplotlib.lines import Line2D\n",
    "import seaborn as sns\n",
    "\n",
    "\n",
    "\n",
    "logger = logging.getLogger()\n",
    "logger.setLevel(logging.INFO)\n",
    "\n",
    "stderr_info_handler = logging.StreamHandler()\n",
    "formatter = logging.Formatter(\"%(name)s - %(levelname)s: %(message)s\")\n",
    "stderr_info_handler.setFormatter(formatter)\n",
    "logger.addHandler(stderr_info_handler)"
   ]
  },
  {
   "cell_type": "markdown",
   "metadata": {},
   "source": [
    "## Config"
   ]
  },
  {
   "cell_type": "code",
   "execution_count": null,
   "metadata": {},
   "outputs": [],
   "source": [
    "# how many MAGICC workers to use\n",
    "NWORKERS = 4\n",
    "\n",
    "# where should MAGICC copies be made\n",
    "MAGICC_ROOT_DIR = os.path.expanduser(os.path.join(\n",
    "    \"\"))\n",
    "MAGICC_ROOT_DIR\n",
    "\n",
    "data_path = ''\n",
    "plots_path = ''\n",
    "\n",
    "# where is the MAGICC executable to copy\n",
    "os.environ[\"MAGICC_EXECUTABLE_6\"] = os.path.expanduser(os.path.join())\n",
    "\n",
    "os.environ[\"MAGICC_EXECUTABLE_6\"]\n"
   ]
  },
  {
   "cell_type": "markdown",
   "metadata": {},
   "source": [
    "## Parallel setup"
   ]
  },
  {
   "cell_type": "code",
   "execution_count": 3,
   "metadata": {},
   "outputs": [],
   "source": [
    "shared_manager = multiprocessing.Manager()\n",
    "shared_dict = shared_manager.dict()\n",
    "\n",
    "if not os.path.isdir(MAGICC_ROOT_DIR):\n",
    "    os.makedirs(MAGICC_ROOT_DIR)\n",
    "\n",
    "def init_magicc_worker(dict_shared_instances, root_dir):\n",
    "    logger.debug(\"Initialising process %s\", multiprocessing.current_process())\n",
    "    logger.debug(\"Existing instances %s\", dict_shared_instances)\n",
    "\n",
    "def _run_func(magicc, cfg):\n",
    "    try:\n",
    "        scenario = cfg.pop(\"scenario\")\n",
    "        res = magicc.run(**cfg)\n",
    "        res.set_meta(cfg[\"run_id\"], \"run_id\")\n",
    "        res.set_meta(scenario, \"scenario\")\n",
    "        \n",
    "        return res\n",
    "    except CalledProcessError as e:\n",
    "        # Swallow the exception, but return None\n",
    "        logger.debug(\"magicc run failed: {} (cfg: {})\".format(e.stderr, cfg))\n",
    "        return None\n",
    "\n",
    "instances = _MagiccInstances(existing_instances=shared_dict)\n",
    "\n",
    "\n",
    "\n",
    "\n",
    "def _execute_run(cfg, run_func, setup_func):\n",
    "    magicc = instances.get(root_dir=MAGICC_ROOT_DIR, init_callback=setup_func)\n",
    "\n",
    "    return run_func(magicc, cfg)\n",
    "\n",
    "def make_runs_list(cfgs):\n",
    "    \"\"\"\n",
    "    Turn the configs into a list which can be run in parallel.\n",
    "    \n",
    "    Assigns ``run_id`` for each run if it's not already there.\n",
    "    \"\"\"\n",
    "    out = [\n",
    "        {\n",
    "            \"cfg\": {**{\"run_id\": i}, **cfg},\n",
    "            \"run_func\": _run_func,\n",
    "            \"setup_func\": _setup_func,\n",
    "        }\n",
    "        for i, cfg in enumerate(cfgs)\n",
    "    ]\n",
    "    if not all([\"scenario\" in c[\"cfg\"] for c in out]):\n",
    "       raise KeyError(\"Please include a key 'scenario' in each config\")\n",
    "        \n",
    "    return out"
   ]
  },
  {
   "cell_type": "markdown",
   "metadata": {},
   "source": [
    "## Modify general MAGICC setup"
   ]
  },
  {
   "cell_type": "code",
   "execution_count": 4,
   "metadata": {},
   "outputs": [],
   "source": [
    "def _setup_func(magicc):\n",
    "    logger.info(\n",
    "        \"Setting up MAGICC worker in %s\", magicc.root_dir,\n",
    "    )\n",
    "\n",
    "\n",
    "    magicc.set_config(\n",
    "        # can set config to be used in all runs here e.g.\n",
    "        # out_forcing=1\n",
    "       \n",
    "       #  OUT_CARBONCYCLE = 1, \n",
    "       # OUT_FORCING = 1,\n",
    "        RF_TOTAL_CONSTANTAFTERYR =  2500,\n",
    "  RF_TROPOZ_CONSTANTAFTERYR =  2500,\n",
    "  RF_STRATOZ_CONSTANTAFTERYR =  2500,\n",
    "    #    FILE_TUNINGMODEL_2 =  '', #C4MIP_UVIC\n",
    "\n",
    "    )\n",
    "    \n",
    "        \n",
    "    magicc.set_years(\n",
    "        # modify start- and endyear\n",
    "        endyear=2500  \n",
    "    )"
   ]
  },
  {
   "cell_type": "markdown",
   "metadata": {},
   "source": [
    "## Runs"
   ]
  },
  {
   "cell_type": "markdown",
   "metadata": {},
   "source": [
    "First we need to get all our configs as a list of dictionaries, like the below."
   ]
  },
  {
   "cell_type": "code",
   "execution_count": 5,
   "metadata": {},
   "outputs": [],
   "source": [
    "# fetch the 600 probabilistic parameter sets from the MAGICC run directory\n",
    "rundir=\"\"\n",
    "rundir_files = os.listdir(rundir)\n",
    "probabilistic_files = [x for x in rundir_files if \"MAGTUNE_DRAWNSET_CDF_RogeljIPCCrepresent_\" in x ]"
   ]
  },
  {
   "cell_type": "code",
   "execution_count": 6,
   "metadata": {},
   "outputs": [],
   "source": [
    "# one could also load the configs from the probabilistic sets using f90nml\n",
    "\n",
    "# choose scenario\n",
    "scenarios = [\"\"] \n",
    "\n",
    "# load probabilistic sets\n",
    "cfgs = []\n",
    "for scen in scenarios:\n",
    "    for f in probabilistic_files:\n",
    "        nml = f90nml.read(rundir+f)[\"nml_allcfgs\"]\n",
    "        # add scenario information\n",
    "        nml[\"file_emissionscenario\"]=scen\n",
    "        nml[\"scenario\"]=scen.replace(\".SCEN\", \"\")        \n",
    "        # append\n",
    "        cfgs.append(nml)\n",
    "           \n",
    "#cfgs = [\n",
    "#    {\n",
    "#        \"core_climatesensitivity\": cs,\n",
    "#        \"rf_cloud_albedo_aer_wm2\": rfcloud,\n",
    "#        \"file_emissionscenario\": scen,\n",
    "#        \"scenario\": scen.replace(\".SCEN\", \"\")\n",
    "#    }\n",
    "#    for cs, rfcloud in zip(\n",
    "#        np.round(np.linspace(2, 6, 50), 2), \n",
    "#        np.round(np.linspace(-0.2, -1.5, 50), 2)\n",
    "#    )\n",
    "#    for scen in [\"RCP26.SCEN\", \"RCP45.SCEN\"]\n",
    "#]\n",
    "\n",
    "#cfgs[:1]"
   ]
  },
  {
   "cell_type": "code",
   "execution_count": 7,
   "metadata": {},
   "outputs": [],
   "source": [
    "runs = make_runs_list(cfgs)\n",
    "#runs[:1]"
   ]
  },
  {
   "cell_type": "code",
   "execution_count": null,
   "metadata": {
    "scrolled": false
   },
   "outputs": [],
   "source": [
    "try:\n",
    "    pool = ProcessPoolExecutor(\n",
    "        max_workers=NWORKERS,\n",
    "        initializer=init_magicc_worker,\n",
    "        initargs=(shared_dict, MAGICC_ROOT_DIR),\n",
    "    )\n",
    "\n",
    "    res_raw = _parallel_process(\n",
    "        func=_execute_run,\n",
    "        configuration=runs,\n",
    "        pool=pool,\n",
    "        config_are_kwargs=True,\n",
    "        front_serial=2,\n",
    "        front_parallel=2,\n",
    "    )\n",
    "\n",
    "    res = df_append([r for r in res_raw if r is not None])\n",
    "\n",
    "finally:\n",
    "    instances.cleanup()\n",
    "    shared_manager.shutdown()\n",
    "    pool.shutdown()"
   ]
  },
  {
   "cell_type": "code",
   "execution_count": 13,
   "metadata": {},
   "outputs": [],
   "source": [
    "temp_world = res.filter(variable=\"Surface Temperature\", region = 'World').process_over(\"run_id\", \"median\").T\n",
    "rf_world = res.filter(variable=\"Radiative Forcing\", region = 'World').process_over(\"run_id\", \"median\").T\n",
    "em_world = res.filter(variable=\"KYOTOGHGS_GWPEMIS\", region = 'World').process_over(\"run_id\", \"median\").T\n",
    "\n",
    "temp_world_17 = res.filter(variable=\"Surface Temperature\", region = 'World').process_over(\"run_id\", operation=\"quantile\", q=0.17).T\n",
    "temp_world_83 = res.filter(variable=\"Surface Temperature\", region = 'World').process_over(\"run_id\", operation=\"quantile\", q=0.83).T\n",
    "rf_world_17 = res.filter(variable=\"Radiative Forcing\", region = 'World').process_over(\"run_id\", operation=\"quantile\", q=0.17).T\n",
    "rf_world_83 = res.filter(variable=\"Radiative Forcing\", region = 'World').process_over(\"run_id\", operation=\"quantile\", q=0.83).T\n",
    "\n"
   ]
  },
  {
   "cell_type": "code",
   "execution_count": 14,
   "metadata": {},
   "outputs": [],
   "source": [
    "\n",
    "temp_world.to_csv(data_path + 'median_temperatures_csv/' + 'temp_med_NDC5_SCa.csv')\n",
    "temp_world_17.to_csv(data_path + 'quantile_temperatures_csv/' + 'temp_q17_NDC5_SCa.csv')\n",
    "temp_world_83.to_csv(data_path + 'quantile_temperatures_csv/' + 'temp_q83_NDC5_SCa.csv')\n",
    "\n",
    "rf_world.to_csv(data_path + 'median_rf_csv/' + 'rf_med_NDC5_SCa.csv')\n",
    "rf_world_17.to_csv(data_path + 'quantile_rf_csv/' + 'rf_q17_NDC5_SCa.csv')\n",
    "rf_world_83.to_csv(data_path + 'quantile_rf_csv/' + 'rf_q83_NDC5_SCa.csv')\n",
    "\n",
    "em_world.to_csv(data_path + 'em_world.csv')"
   ]
  },
  {
   "cell_type": "code",
   "execution_count": null,
   "metadata": {},
   "outputs": [],
   "source": []
  }
 ],
 "metadata": {
  "kernelspec": {
   "display_name": "Python 3",
   "language": "python",
   "name": "python3"
  },
  "language_info": {
   "codemirror_mode": {
    "name": "ipython",
    "version": 3
   },
   "file_extension": ".py",
   "mimetype": "text/x-python",
   "name": "python",
   "nbconvert_exporter": "python",
   "pygments_lexer": "ipython3",
   "version": "3.7.3"
  },
  "toc": {
   "base_numbering": 1,
   "nav_menu": {},
   "number_sections": true,
   "sideBar": true,
   "skip_h1_title": false,
   "title_cell": "Table of Contents",
   "title_sidebar": "Contents",
   "toc_cell": false,
   "toc_position": {},
   "toc_section_display": true,
   "toc_window_display": false
  }
 },
 "nbformat": 4,
 "nbformat_minor": 2
}
